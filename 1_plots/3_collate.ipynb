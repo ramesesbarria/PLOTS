{
 "cells": [
  {
   "cell_type": "code",
   "execution_count": 3,
   "metadata": {},
   "outputs": [
    {
     "name": "stdout",
     "output_type": "stream",
     "text": [
      "Collage saved as: ../2_images/collage.png\n"
     ]
    }
   ],
   "source": [
    "from PIL import Image\n",
    "import matplotlib.pyplot as plt\n",
    "\n",
    "# Define image paths\n",
    "IMAGE_PATH = \"../2_images/\"\n",
    "network_img = Image.open(IMAGE_PATH + \"network_graph.png\")\n",
    "sankey_img = Image.open(IMAGE_PATH + \"sankey_diagram.png\")\n",
    "bar_img = Image.open(IMAGE_PATH + \"bar_chart.png\")\n",
    "\n",
    "# Resize images to create layout\n",
    "network_img = network_img.resize((900, 900))  # Largest on the right\n",
    "bar_img = bar_img.resize((600, 450))  # Smaller on left\n",
    "sankey_img = sankey_img.resize((600, 450))  # Smaller on left\n",
    "\n",
    "\n",
    "# Create a blank white background image\n",
    "collage_width = 900 + 600  # Network image width + left images width\n",
    "collage_height = max(900, 450 + 450)  # Network height is max, left images stacked\n",
    "collage = Image.new(\"RGB\", (collage_width, collage_height), \"white\")\n",
    "\n",
    "# Paste images onto the blank canvas\n",
    "collage.paste(bar_img, (0, 0))  \n",
    "collage.paste(sankey_img, (0, 450))\n",
    "collage.paste(network_img, (600, 0))  # Right side\n",
    "\n",
    "# Save and show the final collage\n",
    "collage_filename = IMAGE_PATH + \"collage.png\"\n",
    "collage.save(collage_filename, \"PNG\")\n",
    "collage.show()\n",
    "\n",
    "print(f\"Collage saved as: {collage_filename}\")\n"
   ]
  },
  {
   "cell_type": "code",
   "execution_count": null,
   "metadata": {},
   "outputs": [],
   "source": []
  }
 ],
 "metadata": {
  "kernelspec": {
   "display_name": "base",
   "language": "python",
   "name": "python3"
  },
  "language_info": {
   "codemirror_mode": {
    "name": "ipython",
    "version": 3
   },
   "file_extension": ".py",
   "mimetype": "text/x-python",
   "name": "python",
   "nbconvert_exporter": "python",
   "pygments_lexer": "ipython3",
   "version": "3.11.7"
  }
 },
 "nbformat": 4,
 "nbformat_minor": 2
}
